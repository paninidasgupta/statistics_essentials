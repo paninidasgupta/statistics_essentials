{
 "cells": [
  {
   "cell_type": "markdown",
   "metadata": {},
   "source": [
    "## compare_cdo_xarray"
   ]
  },
  {
   "cell_type": "code",
   "execution_count": 1,
   "metadata": {},
   "outputs": [],
   "source": [
    "import numpy as np\n",
    "import matplotlib.pyplot as plt\n",
    "import cartopy.crs as ccrs\n",
    "import xarray as xr\n",
    "from cdo import *\n",
    "from cartopy.feature import ShapelyFeature\n",
    "import cartopy.feature as cfeature\n",
    "from cartopy.io.shapereader import Reader\n",
    "from cartopy.mpl.ticker import LongitudeFormatter, LatitudeFormatter\n",
    "cdo =Cdo()"
   ]
  },
  {
   "cell_type": "code",
   "execution_count": 2,
   "metadata": {},
   "outputs": [],
   "source": [
    "da     = xr.open_dataset('cpc_all_2005-2020.nc')\n",
    "clim2  = xr.open_dataset(\"cpc_clim.nc\")\n",
    "da_anom = xr.open_dataset(\"cpc_daily.anom.nc\")"
   ]
  },
  {
   "cell_type": "code",
   "execution_count": 3,
   "metadata": {},
   "outputs": [],
   "source": [
    "def calc_daily_anomaly(da):\n",
    "    time  = da.time\n",
    "    array = da['precip'].values\n",
    "    month = da['precip'].groupby(\"time.month\").groups              \n",
    "    for i in month:\n",
    "        day = da['precip'][month[i]].groupby('time.dayofyear').groups\n",
    "        for j in day:\n",
    "            clim = da['precip'][month[i]][day[j]].mean(dim=\"time\")\n",
    "            anom = da['precip'][month[i]][day[j]]- clim\n",
    "            ind = np.where(np.in1d(da.time.values,anom.time.values)==1)\n",
    "            array[ind,:,:]= anom.values\n",
    "    db=da.copy()\n",
    "    db['precip'].values=array\n",
    "    return db"
   ]
  },
  {
   "cell_type": "code",
   "execution_count": 5,
   "metadata": {},
   "outputs": [],
   "source": [
    "# (da['precip'][month[2]][day[59]]-da['precip'][month[2]][day[59]].mean(dim=\"time\")).sel(lat=20.25,lon =80.25)"
   ]
  },
  {
   "cell_type": "code",
   "execution_count": 6,
   "metadata": {},
   "outputs": [
    {
     "name": "stderr",
     "output_type": "stream",
     "text": [
      "/home/cccr/roxy/.conda/envs/saranya/lib/python3.7/site-packages/xarray/core/nanops.py:140: RuntimeWarning: Mean of empty slice\n",
      "  return np.nanmean(a, axis=axis, dtype=dtype)\n"
     ]
    }
   ],
   "source": [
    "# month = da['precip'].groupby(\"time.month\").groups\n",
    "# day = da['precip'][month[2]].groupby('time.dayofyear').groups\n",
    "# da['precip'][month[2]][day[59]].sel(lat=20.25,lon =80.25)-da['precip'][month[2]][day[59]].mean(dim=\"time\").sel(lat=20.25,lon =80.25)\n",
    "# da['precip'].sel(lat=20.25,lon =80.25,time=\"2015-02-28\")\n",
    "\n",
    "db_anom = calc_daily_anomaly(da)\n",
    "# month = da['precip'].groupby(\"time.month\").groups             \n",
    "# for i in month:\n",
    "#     print(i)\n",
    "# day = da['precip'][month[2]].groupby('time.dayofyear').groups\n",
    "# db_anom.sel(lat=20.25,lon =80.25,time=\"2008-02-29\")\n",
    "# np.where(da.time.values=='2005-01-01')[0]\n",
    "# db.sel(lat=20.25,lon =80.25,time=\"2008-02-29\")"
   ]
  },
  {
   "cell_type": "code",
   "execution_count": 7,
   "metadata": {},
   "outputs": [
    {
     "data": {
      "text/plain": [
       "[<matplotlib.lines.Line2D at 0x7fcc6c9d68d0>]"
      ]
     },
     "execution_count": 7,
     "metadata": {},
     "output_type": "execute_result"
    },
    {
     "data": {
      "image/png": "[encoded data removed]",
      "text/plain": [
       "<Figure size 432x288 with 1 Axes>"
      ]
     },
     "metadata": {
      "needs_background": "light"
     },
     "output_type": "display_data"
    }
   ],
   "source": [
    "plt.plot(da_anom.sel(lat=20.25,lon =80.25)['precip'][90:200].values)\n",
    "plt.plot(db_anom.sel(lat=20.25,lon=80.25)['precip'][90:200].values)"
   ]
  },
  {
   "cell_type": "code",
   "execution_count": null,
   "metadata": {},
   "outputs": [],
   "source": []
  },
  {
   "cell_type": "code",
   "execution_count": null,
   "metadata": {},
   "outputs": [],
   "source": []
  }
 ],
 "metadata": {
  "kernelspec": {
   "display_name": "Python 3",
   "language": "python",
   "name": "python3"
  },
  "language_info": {
   "codemirror_mode": {
    "name": "ipython",
    "version": 3
   },
   "file_extension": ".py",
   "mimetype": "text/x-python",
   "name": "python",
   "nbconvert_exporter": "python",
   "pygments_lexer": "ipython3",
   "version": "3.7.6"
  }
 },
 "nbformat": 4,
 "nbformat_minor": 4
}
